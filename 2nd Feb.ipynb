{
 "cells": [
  {
   "cell_type": "code",
   "execution_count": 1,
   "id": "523d8ccb-44d8-424a-886e-fa70aa688e07",
   "metadata": {},
   "outputs": [
    {
     "data": {
      "text/plain": [
       "'Explain with an example each when to use a for loop and a while loop'"
      ]
     },
     "execution_count": 1,
     "metadata": {},
     "output_type": "execute_result"
    }
   ],
   "source": [
    "\"Explain with an example each when to use a for loop and a while loop\""
   ]
  },
  {
   "cell_type": "code",
   "execution_count": 2,
   "id": "26a1ae70-bba8-4ee1-84d5-c6e9f268644e",
   "metadata": {},
   "outputs": [
    {
     "data": {
      "text/plain": [
       "'For Loop: A for loop is a control flow statement that executes code repeatedly for a particular number of iterations. In this control flow statement, the keyword used is for. The for loop is used when the number of iterations is already known'"
      ]
     },
     "execution_count": 2,
     "metadata": {},
     "output_type": "execute_result"
    }
   ],
   "source": [
    "\"For Loop: A for loop is a control flow statement that executes code repeatedly for a particular number of iterations. In this control flow statement, the keyword used is for. The for loop is used when the number of iterations is already known\""
   ]
  },
  {
   "cell_type": "code",
   "execution_count": 8,
   "id": "814a1c42-7e55-4b7f-b5e6-30f34efd4b58",
   "metadata": {},
   "outputs": [
    {
     "name": "stdout",
     "output_type": "stream",
     "text": [
      "1\n",
      "2\n",
      "3\n"
     ]
    }
   ],
   "source": [
    "##Example of for Loop\n",
    "n = [1, 2, 3]  # Initialization\n",
    "for i in n:  \n",
    "    print(i)\n"
   ]
  },
  {
   "cell_type": "code",
   "execution_count": 10,
   "id": "0e77d694-4ba4-4f84-b4c0-9a8eb44d956a",
   "metadata": {},
   "outputs": [
    {
     "data": {
      "text/plain": [
       "'While loop: A loop that executes a single statement or a group of statements for the given true condition. The keyword used to represent this loop is while. A while loop is used when the number of iterations is unknown. The statement repeats itself till the boolean value becomes false.'"
      ]
     },
     "execution_count": 10,
     "metadata": {},
     "output_type": "execute_result"
    }
   ],
   "source": [
    "\"While loop: A loop that executes a single statement or a group of statements for the given true condition. The keyword used to represent this loop is while. A while loop is used when the number of iterations is unknown. The statement repeats itself till the boolean value becomes false.\""
   ]
  },
  {
   "cell_type": "code",
   "execution_count": 11,
   "id": "201b912a-1eec-45a9-8fb3-0c42ce1786d2",
   "metadata": {},
   "outputs": [
    {
     "name": "stdout",
     "output_type": "stream",
     "text": [
      "1\n",
      "2\n",
      "3\n",
      "4\n",
      "5\n"
     ]
    }
   ],
   "source": [
    "##Example of While Loop\n",
    "i = 1  # Initialization\n",
    "while i < 6:  # Condition\n",
    "    print(i)\n",
    "    i += 1  # Updation\n",
    "\n"
   ]
  },
  {
   "cell_type": "code",
   "execution_count": 13,
   "id": "d5780793-a368-4b68-ac4e-003be6007399",
   "metadata": {},
   "outputs": [
    {
     "data": {
      "text/plain": [
       "'Write a python program to print the sum and product of the first 10 natural numbers using for and while loop.'"
      ]
     },
     "execution_count": 13,
     "metadata": {},
     "output_type": "execute_result"
    }
   ],
   "source": [
    "\"Write a python program to print the sum and product of the first 10 natural numbers using for and while loop.\""
   ]
  },
  {
   "cell_type": "code",
   "execution_count": 16,
   "id": "0791b7d8-a11c-40ab-bd0d-8bf6b7b0927f",
   "metadata": {},
   "outputs": [
    {
     "name": "stdout",
     "output_type": "stream",
     "text": [
      "Sum is 55\n"
     ]
    }
   ],
   "source": [
    "##for loop\n",
    "sum_to_10 = 0\n",
    "for i in range(1, 11): \n",
    "    sum_to_10 += i \n",
    "print(\"Sum is\", sum_to_10) "
   ]
  },
  {
   "cell_type": "code",
   "execution_count": 12,
   "id": "d6fbe303-3ebc-465f-8aac-d80087af9a63",
   "metadata": {},
   "outputs": [
    {
     "name": "stdin",
     "output_type": "stream",
     "text": [
      "Enter a number:  10\n"
     ]
    },
    {
     "name": "stdout",
     "output_type": "stream",
     "text": [
      "The result is 55\n"
     ]
    }
   ],
   "source": [
    "##while loop\n",
    "num = int(input(\"Enter a number: \")) \n",
    "\n",
    "if num < 0:\n",
    "   print(\"Please enter a positive number\")\n",
    "else:\n",
    "   sum = 0\n",
    "   while(num > 0):\n",
    "       sum += num\n",
    "       num -= 1\n",
    "   print(\"The result is\", sum)"
   ]
  },
  {
   "cell_type": "code",
   "execution_count": 40,
   "id": "22210021-910b-47bd-9535-083a8b251f69",
   "metadata": {},
   "outputs": [
    {
     "name": "stdin",
     "output_type": "stream",
     "text": [
      "Enter Your Unit:  310\n"
     ]
    },
    {
     "name": "stdout",
     "output_type": "stream",
     "text": [
      "Total Bill:  2250\n"
     ]
    }
   ],
   "source": [
    "unit = int(input(\"Enter Your Unit: \" ))\n",
    "if unit <= 100:\n",
    "    bill = unit * 4.5\n",
    "elif unit >= 101 and unit <= 200:\n",
    "    bill = 450 + ((unit - 100) * 6)\n",
    "elif unit >= 201 and unit <= 300:\n",
    "    bill = 450 + 600 + ((unit - 200) * 10)\n",
    "else:\n",
    "    bill = 450 + 600 + 1000 + ((unit - 300) * 20)\n",
    "print(\"Total Bill: \", bill)"
   ]
  },
  {
   "cell_type": "code",
   "execution_count": null,
   "id": "7d534535-0e7d-46d1-8174-8186a6dd74f1",
   "metadata": {},
   "outputs": [],
   "source": [
    "Create a list of numbers from 1 to 100. Use for loop and while loop to calculate the cube of eachnumber and if the cube of that number is divisible by 4 or 5 then append that number in a list and print\n",
    "that list."
   ]
  },
  {
   "cell_type": "code",
   "execution_count": 2,
   "id": "fd3775d1-4d1f-46f9-a760-a3b04a4d13cf",
   "metadata": {},
   "outputs": [
    {
     "name": "stdout",
     "output_type": "stream",
     "text": [
      "[4, 5, 8, 10, 12, 15, 16, 20, 24, 25, 28, 30, 32, 35, 36, 40, 44, 45, 48, 50, 52, 55, 56, 60, 64, 65, 68, 70, 72, 75, 76, 80, 84, 85, 88, 90, 92, 95, 96, 100]\n"
     ]
    }
   ],
   "source": [
    "a = range(1, 101)\n",
    "mylist = [num for num in a if num%4 == 0 or num%5 == 0]\n",
    "\n",
    "print(mylist)"
   ]
  },
  {
   "cell_type": "code",
   "execution_count": null,
   "id": "96879969-f534-49ad-abe2-c14f4d85398b",
   "metadata": {},
   "outputs": [],
   "source": [
    "Write a program to filter count vowels in the below-given string.\n",
    "string = \"I want to become a data scientist\""
   ]
  },
  {
   "cell_type": "code",
   "execution_count": 11,
   "id": "57b20517-1ac7-4fbb-b8e9-eef58328edfa",
   "metadata": {},
   "outputs": [
    {
     "name": "stdout",
     "output_type": "stream",
     "text": [
      "Number of Vowels in the given String is:  11\n"
     ]
    }
   ],
   "source": [
    "example = \"I want to become a data scientist\"\n",
    "\n",
    "count = 0\n",
    "\n",
    "i = 0\n",
    "\n",
    "for i in range(len(example)):\n",
    "    if(\n",
    "        (example[i] == 'a')\n",
    "        or (example[i] == 'e')\n",
    "        or (example[i] == 'i')\n",
    "        or (example[i] == 'o')\n",
    "        or (example[i] == 'u')\n",
    "    ):\n",
    "        count += 1\n",
    "        \n",
    "print(\"Number of Vowels in the given String is: \", count)"
   ]
  },
  {
   "cell_type": "code",
   "execution_count": null,
   "id": "bbc7342b-63aa-4b45-a9d9-e89485573717",
   "metadata": {},
   "outputs": [],
   "source": []
  },
  {
   "cell_type": "code",
   "execution_count": null,
   "id": "2c9af899-0003-4c45-b98e-8c0bc984fd6c",
   "metadata": {},
   "outputs": [],
   "source": []
  },
  {
   "cell_type": "code",
   "execution_count": null,
   "id": "8cd8f82c-33e3-4bc5-af75-43000bdbef1d",
   "metadata": {},
   "outputs": [],
   "source": []
  }
 ],
 "metadata": {
  "kernelspec": {
   "display_name": "Python 3 (ipykernel)",
   "language": "python",
   "name": "python3"
  },
  "language_info": {
   "codemirror_mode": {
    "name": "ipython",
    "version": 3
   },
   "file_extension": ".py",
   "mimetype": "text/x-python",
   "name": "python",
   "nbconvert_exporter": "python",
   "pygments_lexer": "ipython3",
   "version": "3.10.8"
  }
 },
 "nbformat": 4,
 "nbformat_minor": 5
}
